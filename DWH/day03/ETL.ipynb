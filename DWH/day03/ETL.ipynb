{
 "cells": [
  {
   "cell_type": "code",
   "execution_count": 161,
   "id": "aa8559c8",
   "metadata": {},
   "outputs": [],
   "source": [
    "# Importing the data \n",
    "import pandas as pd\n",
    "\n",
    "df = pd.read_csv(\"39666.csv\")"
   ]
  },
  {
   "cell_type": "code",
   "execution_count": 162,
   "id": "e85ecf22",
   "metadata": {},
   "outputs": [
    {
     "data": {
      "text/html": [
       "<div>\n",
       "<style scoped>\n",
       "    .dataframe tbody tr th:only-of-type {\n",
       "        vertical-align: middle;\n",
       "    }\n",
       "\n",
       "    .dataframe tbody tr th {\n",
       "        vertical-align: top;\n",
       "    }\n",
       "\n",
       "    .dataframe thead th {\n",
       "        text-align: right;\n",
       "    }\n",
       "</style>\n",
       "<table border=\"1\" class=\"dataframe\">\n",
       "  <thead>\n",
       "    <tr style=\"text-align: right;\">\n",
       "      <th></th>\n",
       "      <th>Date</th>\n",
       "      <th>Country</th>\n",
       "      <th>Category 1</th>\n",
       "      <th>Category 2</th>\n",
       "      <th>Value</th>\n",
       "    </tr>\n",
       "  </thead>\n",
       "  <tbody>\n",
       "    <tr>\n",
       "      <th>0</th>\n",
       "      <td>2013-04-01</td>\n",
       "      <td>Egypt</td>\n",
       "      <td>Generated  Power</td>\n",
       "      <td>Total</td>\n",
       "      <td>11308.0</td>\n",
       "    </tr>\n",
       "    <tr>\n",
       "      <th>1</th>\n",
       "      <td>2013-04-01</td>\n",
       "      <td>Egypt</td>\n",
       "      <td>Power Sold</td>\n",
       "      <td>Total</td>\n",
       "      <td>31.0</td>\n",
       "    </tr>\n",
       "    <tr>\n",
       "      <th>2</th>\n",
       "      <td>2013-04-01</td>\n",
       "      <td>Egypt</td>\n",
       "      <td>Purchased Power</td>\n",
       "      <td>Boot</td>\n",
       "      <td>1194.0</td>\n",
       "    </tr>\n",
       "    <tr>\n",
       "      <th>3</th>\n",
       "      <td>2013-04-01</td>\n",
       "      <td>Egypt</td>\n",
       "      <td>Purchased Power</td>\n",
       "      <td>Industrial Companies</td>\n",
       "      <td>4.0</td>\n",
       "    </tr>\n",
       "    <tr>\n",
       "      <th>4</th>\n",
       "      <td>2013-04-01</td>\n",
       "      <td>Egypt</td>\n",
       "      <td>Purchased Power</td>\n",
       "      <td>New &amp; Renewable ( Winds + Solar Energy )</td>\n",
       "      <td>130.0</td>\n",
       "    </tr>\n",
       "  </tbody>\n",
       "</table>\n",
       "</div>"
      ],
      "text/plain": [
       "         Date Country        Category 1  \\\n",
       "0  2013-04-01   Egypt  Generated  Power   \n",
       "1  2013-04-01   Egypt        Power Sold   \n",
       "2  2013-04-01   Egypt   Purchased Power   \n",
       "3  2013-04-01   Egypt   Purchased Power   \n",
       "4  2013-04-01   Egypt   Purchased Power   \n",
       "\n",
       "                                 Category 2    Value  \n",
       "0                                     Total  11308.0  \n",
       "1                                     Total     31.0  \n",
       "2                                      Boot   1194.0  \n",
       "3                      Industrial Companies      4.0  \n",
       "4  New & Renewable ( Winds + Solar Energy )    130.0  "
      ]
     },
     "execution_count": 162,
     "metadata": {},
     "output_type": "execute_result"
    }
   ],
   "source": [
    "# Show Info About The Dataset\n",
    "#df\n",
    "df.head()\n",
    "#df.shape\n",
    "\n",
    "# Check For Nulls\n",
    "#df.isnull().sum()\n",
    "\n",
    "# Check For Duplicates\n",
    "#df.duplicated()"
   ]
  },
  {
   "cell_type": "code",
   "execution_count": 163,
   "id": "1225bb55",
   "metadata": {},
   "outputs": [
    {
     "data": {
      "text/plain": [
       "Year\n",
       "2013    108\n",
       "2014    144\n",
       "2015    144\n",
       "2016    144\n",
       "2017    146\n",
       "2018    144\n",
       "2019    144\n",
       "2020    120\n",
       "2021    132\n",
       "2022    144\n",
       "2023    152\n",
       "2024    134\n",
       "2025     24\n",
       "Name: count, dtype: int64"
      ]
     },
     "execution_count": 163,
     "metadata": {},
     "output_type": "execute_result"
    }
   ],
   "source": [
    "# Also There is no Full Duplicates but we must check for any other types\n",
    "# Scince There is 12 category * 12 month so every year must have 144 row \n",
    "# Reforfmat the date into Year-Month-Day\n",
    "df['Date'] = pd.to_datetime(df['Date'])\n",
    "df['Year'] = df['Date'].dt.year\n",
    "df['Month'] = df['Date'].dt.month\n",
    "df['Day'] = df['Date'].dt.day\n",
    "# Then count rows in every year\n",
    "\n",
    "year_counts = df[\"Year\"].value_counts().sort_index()\n",
    "year_counts"
   ]
  },
  {
   "cell_type": "code",
   "execution_count": 164,
   "id": "07a6f317",
   "metadata": {},
   "outputs": [
    {
     "name": "stdout",
     "output_type": "stream",
     "text": [
      "Year 2013 has 9 months recorded\n",
      "Missing months: [1, 2, 3]\n",
      "\n",
      "Year 2020 has 10 months recorded\n",
      "Missing months: [5, 6]\n",
      "\n",
      "Year 2021 has 11 months recorded\n",
      "Missing months: [5]\n",
      "\n",
      "Year 2024 has 11 months recorded\n",
      "Missing months: [8]\n",
      "\n",
      "Year 2025 has 2 months recorded\n",
      "Missing months: [3, 4, 5, 6, 7, 8, 9, 10, 11, 12]\n",
      "\n"
     ]
    }
   ],
   "source": [
    "# Show Duplicated Values(Year and Month)\n",
    "all_months = set(range(1, 13))\n",
    "\n",
    "for year, group in df.groupby(\"Year\"):\n",
    "    months_present = set(group[\"Month\"].unique())\n",
    "    missing_months = all_months - months_present\n",
    "    \n",
    "    if len(months_present) != 12:\n",
    "        print(f\"Year {year} has {len(months_present)} months recorded\")\n",
    "        print(f\"Missing months: {sorted(list(missing_months))}\\n\")\n",
    "# We get from this the needed values to be deleted"
   ]
  },
  {
   "cell_type": "code",
   "execution_count": 167,
   "id": "1e930600",
   "metadata": {},
   "outputs": [],
   "source": [
    "# Show the Real Null values\n",
    "month_counts = (\n",
    "    df.groupby([\"Year\", \"Month\"])\n",
    "    .size()\n",
    "    .reset_index(name=\"Count\")\n",
    "    .sort_values([\"Year\", \"Month\"])\n",
    ")\n",
    "\n",
    "for _, row in month_counts.iterrows():\n",
    "    if row[\"Count\"] != 12:\n",
    "        print(f\"\\nYear {int(row['Year'])}, Month {int(row['Month'])} has {row['Count']} values\")\n",
    "\n"
   ]
  },
  {
   "cell_type": "code",
   "execution_count": 166,
   "id": "352f0d02",
   "metadata": {},
   "outputs": [],
   "source": [
    "# Now we have clear vision of the Nulls and Duplicates\n",
    "# Let's Clear the dataset\n",
    "df = df.drop_duplicates(subset=[\"Year\", \"Month\", \"Value\"])"
   ]
  },
  {
   "cell_type": "code",
   "execution_count": 168,
   "id": "47954500",
   "metadata": {},
   "outputs": [],
   "source": [
    "# Show the Real Null values again\n",
    "month_counts = (\n",
    "    df.groupby([\"Year\", \"Month\"])\n",
    "    .size()\n",
    "    .reset_index(name=\"Count\")\n",
    "    .sort_values([\"Year\", \"Month\"])\n",
    ")\n",
    "\n",
    "for _, row in month_counts.iterrows():\n",
    "    if row[\"Count\"] != 12:\n",
    "        print(f\"\\nYear {int(row['Year'])}, Month {int(row['Month'])} has {row['Count']} values\")\n",
    "\n",
    "\n",
    "# Zero Results! Duplicates are cleared\n",
    "\n"
   ]
  },
  {
   "cell_type": "code",
   "execution_count": 170,
   "id": "fd9708bc",
   "metadata": {},
   "outputs": [],
   "source": [
    "df[\"Category_Combined\"] = df[\"Category 1\"].fillna(\"\") + \", \" + df[\"Category 2\"].fillna(\"\")\n",
    "df[\"Category_Combined\"] = df[\"Category_Combined\"].str.strip(\", \")\n",
    "\n",
    "counts = df[\"Category_Combined\"].value_counts().reset_index()\n",
    "counts.columns = [\"Category_Combined\", \"Count\"]\n",
    "\n",
    "counts.to_csv(\"Categories.csv\")"
   ]
  },
  {
   "cell_type": "code",
   "execution_count": 171,
   "id": "bcdc1d8c",
   "metadata": {},
   "outputs": [],
   "source": [
    "# There is Categories with differenet names only we will unify the naming\n",
    "replace_map = {\n",
    "    \"Surplus Of Industrial Companies\": \"Industrial Companies\",\n",
    "    \"New & Renewable ( Winds + Solar Energy )\": \"New & Renewable ( Wind + Solar Energy )\",\n",
    "    \"Boot & International Electrical Interconnection Countries\": \"Boot\",\n",
    "    \"International Electrical Interconnection Countries\": \"Boot\"\n",
    "}\n",
    "\n",
    "df[\"Category 2\"] = df[\"Category 2\"].replace(replace_map)"
   ]
  },
  {
   "cell_type": "code",
   "execution_count": 172,
   "id": "e9006666",
   "metadata": {},
   "outputs": [],
   "source": [
    "# PIIIIIIIIIIIIIIIIIIIVOT\n",
    "df[\"Category\"] = df[\"Category 1\"] + \", \" + df[\"Category 2\"]\n",
    "\n",
    "# Pivot Table\n",
    "pivot_df = df.pivot_table(\n",
    "    index=[\"Date\",\"Year\", \"Month\", \"Day\", \"Country\"], \n",
    "    columns=\"Category\", \n",
    "    values=\"Value\",\n",
    "    aggfunc=\"sum\"   \n",
    ").reset_index()\n",
    "\n",
    "\n",
    "pivot_df.to_csv(\"pivot_categories.csv\", index=False)\n"
   ]
  },
  {
   "cell_type": "code",
   "execution_count": 173,
   "id": "15094440",
   "metadata": {},
   "outputs": [
    {
     "data": {
      "text/plain": [
       "(139, 17)"
      ]
     },
     "execution_count": 173,
     "metadata": {},
     "output_type": "execute_result"
    }
   ],
   "source": [
    "pivot_df.shape"
   ]
  },
  {
   "cell_type": "code",
   "execution_count": null,
   "id": "e74210cf",
   "metadata": {},
   "outputs": [],
   "source": [
    "# Clear names\n",
    "pivot_df = pivot_df.rename(columns={\n",
    "    \"Date\": \"date\",\n",
    "    \"Year\": \"year\",\n",
    "    \"Month\": \"month\",\n",
    "    \"Day\": \"day\",\n",
    "    \"Country\": \"country\",\n",
    "    \"Generated  Power, Total\": \"gen_power_total\",\n",
    "    \"Power Sold, Total\": \"power_sold_total\",\n",
    "    \"Purchased Power, Boot\": \"purchased_boot\",\n",
    "    \"Purchased Power, Industrial Companies\": \"purchased_industrial\",\n",
    "    \"Purchased Power, New & Renewable ( Wind + Solar Energy )\": \"purchased_renewable\",\n",
    "    \"Purchased Power, Total\": \"purchased_total\",\n",
    "    \"Total Generated & Purchased Power, Total\": \"total_supply\",\n",
    "    \"Total Uses, Business\": \"use_business\",\n",
    "    \"Total Uses, Household\": \"use_household\",\n",
    "    \"Total Uses, Industrial\": \"use_industrial\",\n",
    "    \"Total Uses, Other\": \"use_other\",\n",
    "    \"Total Uses, Total\": \"use_total\"\n",
    "})\n"
   ]
  },
  {
   "cell_type": "code",
   "execution_count": 185,
   "id": "04d170fa",
   "metadata": {},
   "outputs": [],
   "source": [
    "# Creating the schema(star)\n",
    "# Dim_Date\n",
    "dim_date = (\n",
    "    pivot_df[[\"date\",\"year\",\"month\",\"day\"]]\n",
    "    .drop_duplicates()\n",
    "    .sort_values([\"date\"])\n",
    "    .reset_index(drop=True)\n",
    ")\n",
    "dim_date[\"date_id\"] = range(1, len(dim_date) + 1)\n",
    "\n",
    "# Dim_Country\n",
    "dim_country = (\n",
    "    pivot_df[[\"country\"]]\n",
    "    .drop_duplicates()\n",
    "    .sort_values([\"country\"])\n",
    "    .reset_index(drop=True)\n",
    ")\n",
    "dim_country[\"country_id\"] = range(1, len(dim_country) + 1)\n",
    "\n",
    "# Dim_Use\n",
    "use_cols = [\"use_business\",\"use_household\",\"use_industrial\",\"use_other\",\"use_total\"]\n",
    "dim_use = (\n",
    "    pivot_df[use_cols]\n",
    "    .drop_duplicates()\n",
    "    .reset_index(drop=True)\n",
    ")\n",
    "dim_use[\"use_id\"] = range(1, len(dim_use) + 1)\n",
    "\n",
    "# Dim_Purshed\n",
    "purshed_cols = [\"purchased_boot\",\"purchased_industrial\",\"purchased_renewable\",\"purchased_total\"]\n",
    "dim_purshed = (\n",
    "    pivot_df[purshed_cols]\n",
    "    .drop_duplicates()\n",
    "    .reset_index(drop=True)\n",
    ")\n",
    "dim_purshed[\"purshed_id\"] = range(1, len(dim_purshed) + 1)\n",
    "\n",
    "# Fact\n",
    "fact_power = (\n",
    "    pivot_df\n",
    "    .merge(dim_date, on=[\"date\",\"year\",\"month\",\"day\"], how=\"left\")\n",
    "    .merge(dim_country, on=\"country\", how=\"left\")\n",
    "    .merge(dim_use, on=use_cols, how=\"left\")\n",
    "    .merge(dim_purshed, on=purshed_cols, how=\"left\")\n",
    ")\n",
    "\n",
    "fact_power = fact_power[[\n",
    "    \"total_supply\",\"gen_power_total\",\"power_sold_total\",\n",
    "    \"country_id\",\"date_id\",\"use_id\",\"purshed_id\"\n",
    "]].copy()\n",
    "\n",
    "fact_power.insert(0, \"ID\", range(1, len(fact_power) + 1))\n"
   ]
  },
  {
   "cell_type": "code",
   "execution_count": 186,
   "id": "45c7d6d6",
   "metadata": {},
   "outputs": [],
   "source": [
    "dim_date[[\"date_id\",\"date\",\"year\",\"month\",\"day\"]].to_csv(\"dim_date.csv\", index=False)\n",
    "dim_country[[\"country_id\",\"country\"]].to_csv(\"dim_country.csv\", index=False)\n",
    "dim_use[[\"use_id\"] + use_cols].to_csv(\"dim_use.csv\", index=False)\n",
    "dim_purshed[[\"purshed_id\"] + purshed_cols].to_csv(\"dim_purshed.csv\", index=False)\n",
    "fact_power.to_csv(\"fact_power.csv\", index=False)"
   ]
  },
  {
   "cell_type": "code",
   "execution_count": null,
   "id": "3d349914",
   "metadata": {},
   "outputs": [],
   "source": [
    "# Flag indicator on total_supply\n",
    "\n",
    "def supply_flag(x):\n",
    "    if x > 20000:\n",
    "        return \"High\"\n",
    "    elif 15000 < x <= 20000:\n",
    "        return \"Medium\"\n",
    "    else:\n",
    "        return \"Low\"\n",
    "\n",
    "fact_power[\"supply_flag\"] = fact_power[\"total_supply\"].apply(supply_flag)\n",
    "fact_power.to_csv(\"fact_power.csv\", index=False)"
   ]
  }
 ],
 "metadata": {
  "kernelspec": {
   "display_name": ".venv (3.12.3)",
   "language": "python",
   "name": "python3"
  },
  "language_info": {
   "codemirror_mode": {
    "name": "ipython",
    "version": 3
   },
   "file_extension": ".py",
   "mimetype": "text/x-python",
   "name": "python",
   "nbconvert_exporter": "python",
   "pygments_lexer": "ipython3",
   "version": "3.12.3"
  }
 },
 "nbformat": 4,
 "nbformat_minor": 5
}
