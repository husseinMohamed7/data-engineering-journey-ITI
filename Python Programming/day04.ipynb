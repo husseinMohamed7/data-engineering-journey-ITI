{
 "cells": [
  {
   "cell_type": "markdown",
   "id": "474d3fc6",
   "metadata": {},
   "source": [
    "# Day04 Python Fundamentals\n",
    "## Hussein Mohamed\n",
    "---"
   ]
  },
  {
   "cell_type": "markdown",
   "id": "8740f13f",
   "metadata": {},
   "source": [
    "### Q1\n",
    "Create a list of integers from 1 to 10. Write a script to:\n",
    " - Print the first and last elements.\n",
    " - Reverse the list.\n",
    " - Find the sum of all elements"
   ]
  },
  {
   "cell_type": "code",
   "execution_count": 14,
   "id": "46acbc0b",
   "metadata": {},
   "outputs": [
    {
     "name": "stdout",
     "output_type": "stream",
     "text": [
      "1 10\n",
      "55\n"
     ]
    }
   ],
   "source": [
    "# create \n",
    "int_list = [i for i in range(1, 11)]\n",
    "\n",
    "# print first and last\n",
    "print(int_list[0], int_list[-1])\n",
    "\n",
    "# reverse\n",
    "reversed_int_list = int_list[::-1]\n",
    "\n",
    "# sum\n",
    "sum_int_list = 0\n",
    "for i in int_list:\n",
    "    sum_int_list += i\n",
    "print(sum_int_list)"
   ]
  },
  {
   "cell_type": "markdown",
   "id": "9296fb1e",
   "metadata": {},
   "source": [
    "---\n",
    "\n",
    "### Q2\n",
    "- Create a dictionary where keys are the first 5 natural numbers and values are their squares.\n",
    "Write a script to:\n",
    "- Print all keys and their respective values.\n",
    "- Add a new key-value pair: `6: 36`.\n",
    "- Check if a specific key (e.g., 4) exists in the dictionary.\n",
    "---"
   ]
  },
  {
   "cell_type": "code",
   "execution_count": 209,
   "id": "2f8da268",
   "metadata": {},
   "outputs": [
    {
     "name": "stdout",
     "output_type": "stream",
     "text": [
      "False\n"
     ]
    }
   ],
   "source": [
    "# create the dict\n",
    "natural_dict = {1 : 1, 2 : 4, 3 : 9, 4 : 16, 5 : 25}\n",
    "\n",
    "# update\n",
    "natural_dict.update({6 : 36})\n",
    "\n",
    "# check\n",
    "\n",
    "check = False\n",
    "value = 7\n",
    "if value in natural_dict:\n",
    "    check = True\n",
    "\n",
    "print(check)"
   ]
  },
  {
   "cell_type": "markdown",
   "id": "7cd374aa",
   "metadata": {},
   "source": [
    "---\n",
    "\n",
    "### Q3\n",
    "- Create a dictionary to store student names as keys and a list of their grades as values. Write a script to:\n",
    "- Calculate the average grade for each student.\n",
    "- Find the student with the highest average.\n",
    "---"
   ]
  },
  {
   "cell_type": "code",
   "execution_count": 115,
   "id": "68d0b16a",
   "metadata": {},
   "outputs": [
    {
     "name": "stdout",
     "output_type": "stream",
     "text": [
      "students\tavg grade\n",
      "Hussein\t\t9.0\n",
      "Ahmed\t\t12.0\n",
      "Reda\t\t10.333333333333334\n",
      "\n",
      "highest average for student: Ahmed\n"
     ]
    }
   ],
   "source": [
    "# create the students\n",
    "students = {\n",
    "    \"Hussein\" : [10, 9, 8],\n",
    "    \"Ahmed\" : [11, 12, 13],\n",
    "    \"Reda\" : [6, 15, 10]\n",
    "}\n",
    "\n",
    "# calculate average grades and store the average \n",
    "print(\"students\\tavg grade\")\n",
    "std_avg = [] # to use it in the average later\n",
    "std_names = [] # to use it in the average later\n",
    "calc_avg = [] # to clean code the print\n",
    "for names, numbers in students.items():\n",
    "    std_names.append(names)\n",
    "    std_avg.append(sum(numbers)/len(numbers))\n",
    "    calc_avg = sum(numbers)/len(numbers)\n",
    "    print(f\"{names}\\t\\t{calc_avg}\")\n",
    "\n",
    "# find the student with the highest avg\n",
    "top_student = std_names[std_avg.index(max(std_avg))]\n",
    "print(f\"\\nhighest average for student: {top_student}\")"
   ]
  },
  {
   "cell_type": "markdown",
   "id": "ff47bee5",
   "metadata": {},
   "source": [
    "---\n",
    "\n",
    "### Q4\n",
    "Implement a shopping cart using a dictionary where keys are product names and values are their\n",
    "prices. Write a script to:\n",
    "- Add items to the cart.\n",
    "- Calculate the total price of items in the cart.\n",
    "---"
   ]
  },
  {
   "cell_type": "code",
   "execution_count": 125,
   "id": "3232b683",
   "metadata": {},
   "outputs": [
    {
     "name": "stdout",
     "output_type": "stream",
     "text": [
      "total prices in the cart: 135\n"
     ]
    }
   ],
   "source": [
    "# create the shopping cart\n",
    "shopping_cart = {\n",
    "    \"pocorn\" : 5,\n",
    "    \"flour\" : 20,\n",
    "    \"rice\" : 10\n",
    "}\n",
    "\n",
    "# add items to the cart\n",
    "shopping_cart.update({\"meat\": 100})\n",
    "\n",
    "# calculate the total price of items in the cart\n",
    "cart_total = 0\n",
    "for price in shopping_cart.values():\n",
    "    cart_total += price\n",
    "print(f\"total prices in the cart: {cart_total}\")"
   ]
  },
  {
   "cell_type": "markdown",
   "id": "816b4802",
   "metadata": {},
   "source": [
    "---\n",
    "\n",
    "### Q5\n",
    "- Create a list of dictionaries where each dictionary represents an employee with attributes:\n",
    "- `name`, `age`, and `department` . Write a script to:\n",
    "- Filter employees by a specific department.\n",
    "- Find the average age of employees.\n",
    "---"
   ]
  },
  {
   "cell_type": "code",
   "execution_count": 158,
   "id": "b787c88c",
   "metadata": {},
   "outputs": [
    {
     "name": "stdout",
     "output_type": "stream",
     "text": [
      "Employes in HR Department:\n",
      "- Hssein\n",
      "- Reda\n",
      "\n",
      "average age in the company= 25.666666666666668\n"
     ]
    }
   ],
   "source": [
    "# create the company \n",
    "emp1 = {\"name\": \"Hssein\", \"age\" : 25, \"department\" : \"HR\"}\n",
    "emp2 = {\"name\": \"Ahmed\", \"age\" : 29, \"department\" : \"OR\"}\n",
    "emp3 = {\"name\": \"Reda\", \"age\" : 23, \"department\" : \"HR\"}\n",
    "company = [emp1, emp2, emp3]\n",
    "\n",
    "# filter by the department\n",
    "print(\"Employes in HR Department:\")\n",
    "for i in company:\n",
    "    if i[\"department\"] == \"HR\":\n",
    "        print(f\"- {i[\"name\"]}\")\n",
    "\n",
    "# find the average age\n",
    "avg_age = 0\n",
    "for i in company:\n",
    "    avg_age +=i[\"age\"]\n",
    "\n",
    "avg_age = avg_age/len(company)\n",
    "print(f\"\\naverage age in the company= {avg_age}\")"
   ]
  },
  {
   "cell_type": "markdown",
   "id": "b77420d3",
   "metadata": {},
   "source": [
    "---\n",
    "\n",
    "### Q6\n",
    "- Given a string, count the frequency of each word using a dictionary.\n",
    "---"
   ]
  },
  {
   "cell_type": "code",
   "execution_count": 199,
   "id": "9d9fe9cd",
   "metadata": {},
   "outputs": [
    {
     "name": "stdout",
     "output_type": "stream",
     "text": [
      "{'mr': 2, 'can': 6, 'a': 1, 'but': 1, \"can't\": 1}\n"
     ]
    }
   ],
   "source": [
    "text_used = \"mr can can can a can but can can't can mr can\"\n",
    "freq_dict = {}\n",
    "word = \"\"\n",
    "for i in text_used:\n",
    "    if i != \" \":\n",
    "        word +=i\n",
    "    else:\n",
    "        if word in freq_dict:\n",
    "            freq_dict[word] += 1\n",
    "        else:    \n",
    "            freq_dict.update({word: 1})\n",
    "        word = \"\"\n",
    "print(freq_dict)"
   ]
  },
  {
   "cell_type": "markdown",
   "id": "de06c9b4",
   "metadata": {},
   "source": [
    "---\n",
    "\n",
    "### Q7\n",
    "- Create an inventory system for a store using a dictionary where keys are item names and values\n",
    "are dictionaries containing `price` and `quantity`. \n",
    "#### Write a script to:\n",
    "- Update stock after a sale.\n",
    "- Restock items.\n",
    "---"
   ]
  },
  {
   "cell_type": "code",
   "execution_count": null,
   "id": "5b28aa8c",
   "metadata": {},
   "outputs": [],
   "source": [
    "# create the inventory\n",
    "cloths_shop_inventory = {\n",
    "  \"t-shirt\" : {\n",
    "    \"price\" : 10,\n",
    "    \"quantity\" : 3\n",
    "  },\n",
    "  \"shoes\" : {\n",
    "    \"price\" : 20,\n",
    "    \"quantity\" : 4\n",
    "  },\n",
    "  \"belt\" : {\n",
    "    \"price\" : 30,\n",
    "    \"quantity\" : 5\n",
    "  }\n",
    "}\n",
    "\n",
    "# update after sale\n",
    "# say obne belt was sold, so we delete one from the inventory\n",
    "cloths_shop_inventory[\"belt\"][\"quantity\"] -=1\n",
    "\n",
    "# update after added quantites or items\n",
    "# say we bought 3 shoes\n",
    "cloths_shop_inventory[\"shoes\"][\"quantity\"] +=3\n",
    "\n",
    "# say a new item was brought\n",
    "cloths_shop_inventory.update({\"pants\":{\"price\" : 25, \"quantity\": 10}})"
   ]
  },
  {
   "cell_type": "markdown",
   "id": "d22ed0ac",
   "metadata": {},
   "source": [
    "---\n",
    "\n",
    "### Q8\n",
    "- Create a nested dictionary to represent a library where keys are genres and values are lists of\n",
    "books. Write a script to:\n",
    "- Add a new book to a genre.\n",
    "- List all books of a specific genre.\n",
    "---"
   ]
  },
  {
   "cell_type": "code",
   "execution_count": null,
   "id": "c80c11e8",
   "metadata": {},
   "outputs": [
    {
     "name": "stdout",
     "output_type": "stream",
     "text": [
      "novel in the library are: ['xyz', 'jkn', 'awlad hartna']\n"
     ]
    }
   ],
   "source": [
    "# create the Library\n",
    "library = {\n",
    "    \"novel\" : [\"xyz\", \"jkn\"],\n",
    "    \"history\" : [\"kifah tiba\", \"klm\"],\n",
    "    \"social\" : [\"bayen el qasrayn\", \"qasr el shok\"]\n",
    "}\n",
    "\n",
    "# we append to the list not the dict \n",
    "# so we add a new book to a specific genere\n",
    "library[\"novel\"].append(\"awlad hartna\")\n",
    "\n",
    "# list them\n",
    "genere = \"novel\" \n",
    "print(f\"{genere} in the library are: {library[genere]}\")\n"
   ]
  },
  {
   "cell_type": "markdown",
   "id": "89efc1be",
   "metadata": {},
   "source": [
    "\n",
    "---\n",
    "\n",
    "### Q9\n",
    "\n",
    "- Write a function to check if two given strings are anagrams of each other.\n",
    "-  Two strings areanagrams if they use the same characters in the same frequency, regardless of order.\n",
    "- Example:\n",
    "```python\n",
    "Input: \"listen\", \"silent\"\n",
    "Output: True\n",
    "```\n",
    "---\n",
    "\n"
   ]
  },
  {
   "cell_type": "code",
   "execution_count": null,
   "id": "620b1ccd",
   "metadata": {},
   "outputs": [
    {
     "data": {
      "text/plain": [
       "True"
      ]
     },
     "execution_count": 264,
     "metadata": {},
     "output_type": "execute_result"
    }
   ],
   "source": [
    "def anagrams_checker(wrod1, word2):\n",
    "    \"\"\"We check for anagrames(same letters differenet order)\"\"\"\n",
    "    word1_list = list(wrod1)\n",
    "    word2_list = list(word2)\n",
    "    word1_list.sort()\n",
    "    word2_list.sort()\n",
    "    if len(word1_list) == len(word2_list):\n",
    "        counter = 0\n",
    "        for i in range(len(word1_list)):\n",
    "            if word1_list[i] == word2_list[i]:\n",
    "                counter +=1\n",
    "        if counter == len(word2_list):\n",
    "            return True\n",
    "        else:\n",
    "            return False\n",
    "    else:\n",
    "        return False\n",
    "    \n",
    "anagrams_checker(\"listen\", \"silent\")"
   ]
  },
  {
   "cell_type": "markdown",
   "id": "331fdbd4",
   "metadata": {},
   "source": [
    "\n",
    "---\n",
    "\n",
    "### Q10\n",
    "\n",
    "\n",
    "- Write a function that takes a list of integers and a target number and returns the indices of two\n",
    "numbers in the list that add up to the target.\n",
    "- Example:\n",
    "```python\n",
    "Input: nums = [2, 7, 11, 15], target = 9\n",
    "Output: [0, 1]\n",
    "```\n",
    "---\n"
   ]
  },
  {
   "cell_type": "code",
   "execution_count": null,
   "id": "17a0a36c",
   "metadata": {},
   "outputs": [],
   "source": [
    "def target(integ_list, targeted):\n",
    "    \"\"\"this function returens sum form to get to a target given a list\"\"\"\n",
    "    # my method to store the list in dict as index:value\n",
    "    integ_dict = {}\n",
    "    for i in range(len(integ_list)):\n",
    "        integ_dict.update({integ_list[i]:i})\n",
    "    \n",
    "    # search the dict for value1 = targeted - value2\n",
    "    for i in range(len(integ_list)):\n",
    "        value1 = integ_list[i]\n",
    "        value2 = targeted - value1\n",
    "        # !=i so it is not 0,0 or 1,1 not the same index!\n",
    "        if value2 in integ_dict and integ_dict[value2] != i:\n",
    "            return [i, integ_dict[value2]]\n",
    "    return \"Not exist\""
   ]
  },
  {
   "cell_type": "code",
   "execution_count": 5,
   "id": "90a4709f",
   "metadata": {},
   "outputs": [
    {
     "data": {
      "text/plain": [
       "[0, 2]"
      ]
     },
     "execution_count": 5,
     "metadata": {},
     "output_type": "execute_result"
    }
   ],
   "source": [
    "target([2,3,4,5,6], 6)"
   ]
  },
  {
   "cell_type": "code",
   "execution_count": null,
   "id": "935a5d4c",
   "metadata": {},
   "outputs": [],
   "source": []
  }
 ],
 "metadata": {
  "kernelspec": {
   "display_name": ".venv (3.12.3)",
   "language": "python",
   "name": "python3"
  },
  "language_info": {
   "codemirror_mode": {
    "name": "ipython",
    "version": 3
   },
   "file_extension": ".py",
   "mimetype": "text/x-python",
   "name": "python",
   "nbconvert_exporter": "python",
   "pygments_lexer": "ipython3",
   "version": "3.12.3"
  }
 },
 "nbformat": 4,
 "nbformat_minor": 5
}
