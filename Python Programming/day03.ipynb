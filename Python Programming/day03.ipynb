{
 "cells": [
  {
   "cell_type": "markdown",
   "id": "474d3fc6",
   "metadata": {},
   "source": [
    "# Day03 Python Fundamentals\n",
    "## Hussein Mohamed\n",
    "---"
   ]
  },
  {
   "cell_type": "markdown",
   "id": "8740f13f",
   "metadata": {},
   "source": [
    "### Q1\n",
    "Please write a function named triangle, which draws a triangle of\n",
    "hashes, and takes one argument. The triangle should be as tall and as wide as the value of the argument.\n",
    "#### Some examples:\n",
    "- triangle(6)\n",
    "#\n",
    "##\n",
    "###\n",
    "####\n",
    "#####\n",
    "######\n",
    "- triangle(3)\n",
    "#\n",
    "##\n",
    "###"
   ]
  },
  {
   "cell_type": "code",
   "execution_count": null,
   "id": "46acbc0b",
   "metadata": {},
   "outputs": [],
   "source": [
    "\n",
    "def triangle(rows):\n",
    "    \"\"\"creates hash triangle of n lines\"\"\"\n",
    "    for i in range(0, rows + 1 , 1):\n",
    "        x = i * \"#\"\n",
    "        print(f\"{x}\")"
   ]
  },
  {
   "cell_type": "code",
   "execution_count": 26,
   "id": "b8cf7fe0",
   "metadata": {},
   "outputs": [
    {
     "name": "stdout",
     "output_type": "stream",
     "text": [
      "\n",
      "#\n",
      "##\n",
      "###\n",
      "####\n",
      "#####\n"
     ]
    }
   ],
   "source": [
    "triangle(5)"
   ]
  },
  {
   "cell_type": "markdown",
   "id": "9296fb1e",
   "metadata": {},
   "source": [
    "---\n",
    "\n",
    "### Q2\n",
    "Please write a function named greatest_number, which takes three\n",
    "arguments. The function returns the greatest in value of the three.\n",
    "[without using max function, and solve it in two ways]\n",
    "print(greatest_number(3, 4, 1)) # 4\n",
    "print(greatest_number(99, -4, 7)) # 99\n",
    "print(greatest_number(0, 0, 0)) # 0\n",
    "---"
   ]
  },
  {
   "cell_type": "code",
   "execution_count": null,
   "id": "2f8da268",
   "metadata": {},
   "outputs": [],
   "source": [
    "def greatest_number1(num1, num2, num3):\n",
    "    \"\"\"greatest number not handling equal\"\"\"\n",
    "    if num1 > num2:\n",
    "        if num1 > num3:\n",
    "            return num1\n",
    "        else:\n",
    "            return num3\n",
    "    else:\n",
    "        if num2 > num3:\n",
    "            return num2\n",
    "        else:\n",
    "            return num3 \n",
    "#############\n",
    "def greatest_number2(num1, num2, num3):\n",
    "    \"\"\"greatest number not handling equal\"\"\"\n",
    "    if num1 > num2 and num1 > num3:\n",
    "        return num1\n",
    "    elif num2 > num1 and num2 > num3:\n",
    "        return num2\n",
    "    else:\n",
    "        return num3\n",
    "#############\n",
    "def greatest_number3(num1,num2,num3):\n",
    "    \"\"\"greatest number not handling equal\"\"\"\n",
    "    great = num1\n",
    "    if num2 > great:\n",
    "        great = num2\n",
    "    if num3 > great:\n",
    "        great = num3\n",
    "    return great"
   ]
  },
  {
   "cell_type": "code",
   "execution_count": 20,
   "id": "79ced6d4",
   "metadata": {},
   "outputs": [
    {
     "name": "stdout",
     "output_type": "stream",
     "text": [
      "37773 37773 37773\n"
     ]
    }
   ],
   "source": [
    "print(greatest_number1(134,4323,37773)\n",
    ",greatest_number2(134,4323,37773)\n",
    ",greatest_number3(134,4323,37773))"
   ]
  },
  {
   "cell_type": "markdown",
   "id": "7cd374aa",
   "metadata": {},
   "source": [
    "---\n",
    "\n",
    "### Q3\n",
    "Write a function sum_series(n) that calculates the sum of the\n",
    "series:\n",
    "1 - 2 + 3 - 4 + 5 - ... up to n\n",
    "---"
   ]
  },
  {
   "cell_type": "code",
   "execution_count": null,
   "id": "68d0b16a",
   "metadata": {},
   "outputs": [],
   "source": [
    "def sum_series(n):\n",
    "    \"\"\"the sereis 1-2+3-4+5-......\"\"\"\n",
    "    diff_of_series = 0\n",
    "    sum_of_series = 0\n",
    "    final = 0\n",
    "    for i in range(1, n + 1, 1):\n",
    "        if i % 2 == 0:\n",
    "            diff_of_series += i\n",
    "        else:\n",
    "            sum_of_series +=i\n",
    "    final = sum_of_series - diff_of_series\n",
    "    return final \n"
   ]
  },
  {
   "cell_type": "code",
   "execution_count": 57,
   "id": "0269d597",
   "metadata": {},
   "outputs": [
    {
     "data": {
      "text/plain": [
       "3"
      ]
     },
     "execution_count": 57,
     "metadata": {},
     "output_type": "execute_result"
    }
   ],
   "source": [
    "sum_series(5)"
   ]
  },
  {
   "cell_type": "markdown",
   "id": "ff47bee5",
   "metadata": {},
   "source": [
    "---\n",
    "\n",
    "### Q4\n",
    "Write a Python function to calculate the factorial of a number (a non-negative integer). \n",
    "- The function accepts the number as an argument.\n",
    "\n",
    "---"
   ]
  },
  {
   "cell_type": "code",
   "execution_count": null,
   "id": "3232b683",
   "metadata": {},
   "outputs": [],
   "source": [
    "def user_factorial(number):\n",
    "    \"\"\"\"shows the factorial of number\"\"\"\n",
    "    calc_factorial = 1\n",
    "    for i in range(number, 1, -1):\n",
    "        calc_factorial *= i\n",
    "    return calc_factorial"
   ]
  },
  {
   "cell_type": "code",
   "execution_count": 11,
   "id": "cb946c8a",
   "metadata": {},
   "outputs": [
    {
     "data": {
      "text/plain": [
       "3628800"
      ]
     },
     "execution_count": 11,
     "metadata": {},
     "output_type": "execute_result"
    }
   ],
   "source": [
    "user_factorial(10)"
   ]
  },
  {
   "cell_type": "markdown",
   "id": "816b4802",
   "metadata": {},
   "source": [
    "---\n",
    "\n",
    "### Q5\n",
    "Implement a function that checks if a given word is a palindrome\n",
    "(reads the same forwards and backwards)\n",
    "\n",
    "---"
   ]
  },
  {
   "cell_type": "code",
   "execution_count": 49,
   "id": "b787c88c",
   "metadata": {},
   "outputs": [],
   "source": [
    "def palindrome_checker(word):\n",
    "    \"\"\"\"checks if the given word is palindrom\"\"\"\n",
    "    checker = f\"{word} is not plaindrom\"\n",
    "    reversed_word = \"\"\n",
    "    #first we reverse the word\n",
    "    for i in word:\n",
    "        reversed_word = i + reversed_word\n",
    "\n",
    "    if reversed_word == word: \n",
    "        checker = f\"{word} is plaindrom\"\n",
    "    return checker"
   ]
  },
  {
   "cell_type": "code",
   "execution_count": 58,
   "id": "de4c14e1",
   "metadata": {},
   "outputs": [
    {
     "data": {
      "text/plain": [
       "'cac is plaindrom'"
      ]
     },
     "execution_count": 58,
     "metadata": {},
     "output_type": "execute_result"
    }
   ],
   "source": [
    "palindrome_checker(\"cac\")"
   ]
  }
 ],
 "metadata": {
  "kernelspec": {
   "display_name": ".venv (3.12.3)",
   "language": "python",
   "name": "python3"
  },
  "language_info": {
   "codemirror_mode": {
    "name": "ipython",
    "version": 3
   },
   "file_extension": ".py",
   "mimetype": "text/x-python",
   "name": "python",
   "nbconvert_exporter": "python",
   "pygments_lexer": "ipython3",
   "version": "3.12.3"
  }
 },
 "nbformat": 4,
 "nbformat_minor": 5
}
