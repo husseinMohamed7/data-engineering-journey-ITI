```json name=Day01_Python_Fundamentals.ipynb
{
 "cells": [
  {
   "cell_type": "markdown",
   "id": "474d3fc6",
   "metadata": {},
   "source": [
    "# Day01 Python Fundamentals\n",
    "## Hussein Mohamed\n",
    "---"
   ]
  },
  {
   "cell_type": "markdown",
   "id": "8740f13f",
   "metadata": {},
   "source": [
    "### Q1\n",
    "Installing Anaconda:\n",
    "- Download Anaconda Distribution | Anaconda\n",
    "- Installing Anaconda Distribution — Anaconda documentation"
   ]
  },
  {
   "cell_type": "markdown",
   "id": "46acbc0b",
   "metadata": {},
   "source": [
    "---\n",
    "\n",
    "#### Using VS code + extentions"
   ]
  },
  {
   "cell_type": "markdown",
   "id": "9296fb1e",
   "metadata": {},
   "source": [
    "---\n",
    "\n",
    "### Q2\n",
    "Assign a message to a variable, and then print that message.\n",
    "\n",
    "---"
   ]
  },
  {
   "cell_type": "code",
   "execution_count": null,
   "id": "2f8da268",
   "metadata": {},
   "outputs": [],
   "source": [
    "message = \"Hello Python\"\n",
    "print(message)"
   ]
  },
  {
   "cell_type": "markdown",
   "id": "7cd374aa",
   "metadata": {},
   "source": [
    "---\n",
    "\n",
    "### Q3\n",
    "Use a variable to represent your favorite number. Then, using that variable,\n",
    "create a message that reveals your favorite number. Print that message.\n",
    "\n",
    "---"
   ]
  },
  {
   "cell_type": "code",
   "execution_count": null,
   "id": "68d0b16a",
   "metadata": {},
   "outputs": [],
   "source": [
    "fav_num = input(\"what is your favourite number: \")\n",
    "print(f\"my favorite number is {int(fav_num)}\")"
   ]
  },
  {
   "cell_type": "markdown",
   "id": "ff47bee5",
   "metadata": {},
   "source": [
    "---\n",
    "\n",
    "### Q4\n",
    "- The volume of a sphere with radius r is 4/3πr3. What is the volume of a sphere\n",
    "- with radius 5? Start with a variable named radius and then assign the result to\n",
    "- a variable named volume. Display the result. Add comments to indicate\n",
    "- that radius is in centimeters and volume in cubic centimeters.\n",
    "\n",
    "---"
   ]
  },
  {
   "cell_type": "code",
   "execution_count": null,
   "id": "3232b683",
   "metadata": {},
   "outputs": [],
   "source": [
    "PI = 3.1415\n",
    "radius = input(\"Enter your r in centimeters: \") \n",
    "V_sphere = 4 / 3 * PI * (int(radius) ** 3)  # radius in cm, Volume of sphere in cm^3\n",
    "print(f\"The Volume of {radius} radius Sphere = {V_sphere}\")"
   ]
  },
  {
   "cell_type": "markdown",
   "id": "816b4802",
   "metadata": {},
   "source": [
    "---\n",
    "\n",
    "### Q5\n",
    "Let’s your program already contains two integer variables, x and y:\n",
    "- x = 27\n",
    "- y = 15\n",
    "- Please complete the program so that it also prints out the following:\n",
    "- 27 + 15 = 42\n",
    "- 27 - 15 = 12\n",
    "- 27 * 15 = 405\n",
    "- 27 / 15 = 1.8\n",
    "\n",
    "---"
   ]
  },
  {
   "cell_type": "code",
   "execution_count": null,
   "id": "b787c88c",
   "metadata": {},
   "outputs": [],
   "source": [
    "x = 27\n",
    "y = 15\n",
    "sum = x + y\n",
    "div = x / y\n",
    "diff = x - y\n",
    "mul = x * y\n",
    "print(f\"{x} + {y} = {sum}\\n{x} - {y} = {diff}\\n{x} * {y} = {mul}\\n{x} / {y} = {div}\")"
   ]
  },
  {
   "cell_type": "markdown",
   "id": "ca045cf3",
   "metadata": {},
   "source": [
    "---\n",
    "\n",
    "### Q6\n",
    "Please write a program which asks the user for a number of days. \n",
    "- The program then prints out the number of seconds in the number of days given.\n",
    "- How many days? 1\n",
    "- Seconds in that many days: 86400\n",
    "\n",
    "---"
   ]
  },
  {
   "cell_type": "code",
   "execution_count": null,
   "id": "3d98f4c8",
   "metadata": {},
   "outputs": [],
   "source": [
    "days_inputed = input(\"How many days? \")\n",
    "second_calc = int(days_inputed) * 24 * 60 * 60\n",
    "print(f\"Seconds in {days_inputed} days = {second_calc}\")"
   ]
  },
  {
   "cell_type": "markdown",
   "id": "27bef7c6",
   "metadata": {},
   "source": [
    "---\n",
    "\n",
    "### Q7\n",
    "Please write a program which asks for the number of students on a course and\n",
    "the desired group size.\n",
    "- The program will then print out the number of groups formed from the students on the course. \n",
    "- If the division is not even, one of the groups may have fewer members than specified.\n",
    "#### Simple output (1)\n",
    "- How many students on the course? 8\n",
    "- Desired group size? 4\n",
    "- Number of groups formed: 2\n",
    "#### Simple output (2)\n",
    "- How many students on the course? 11\n",
    "- Desired group size? 3\n",
    "- Number of groups formed: 4\n",
    "- Hint: the integer division operator // could come in handy here.\n",
    "\n",
    "---"
   ]
  },
  {
   "cell_type": "code",
   "execution_count": null,
   "id": "27aaf802",
   "metadata": {},
   "outputs": [],
   "source": [
    "sc = int(input(\"How many students on the course? \"))\n",
    "sl = int(input(\"Desired group size? \"))\n",
    "print(f\"Number of groups formed: {-(-sc // sl)}\")"
   ]
  }
 ],
 "metadata": {
  "kernelspec": {
   "display_name": ".venv (3.12.3)",
   "language": "python",
   "name": "python3"
  },
  "language_info": {
   "codemirror_mode": {
    "name": "ipython",
    "version": 3
   },
   "file_extension": ".py",
   "mimetype": "text/x-python",
   "name": "python",
   "nbconvert_exporter": "python",
   "pygments_lexer": "ipython3",
   "version": "3.12.3"
  }
 },
 "nbformat": 4,
 "nbformat_minor": 5
}
```
