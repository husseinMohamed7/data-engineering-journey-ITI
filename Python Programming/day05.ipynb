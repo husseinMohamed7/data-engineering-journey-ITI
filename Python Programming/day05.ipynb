{
 "cells": [
  {
   "cell_type": "markdown",
   "id": "474d3fc6",
   "metadata": {},
   "source": [
    "# Day05 Python Fundamentals\n",
    "## Hussein Mohamed\n",
    "---"
   ]
  },
  {
   "cell_type": "markdown",
   "id": "8740f13f",
   "metadata": {},
   "source": [
    "### Q1\n",
    "#### Write a Python program that:\n",
    "- Asks the user for a file name.\n",
    "- Reads the contents of the file.\n",
    "- Handles the following exception:\n",
    "    - FileNotFoundError if the file does not exist.\n",
    "- If the file is read successfully, print its contents.\n",
    "- Include an option for the user to try again if an error occurs.\n",
    "\n",
    "---"
   ]
  },
  {
   "cell_type": "code",
   "execution_count": 118,
   "id": "46acbc0b",
   "metadata": {},
   "outputs": [],
   "source": [
    "def file_reader():\n",
    "    \"\"\"Check for the existance of a file and returns it's content\"\"\"\n",
    "    from pathlib import Path\n",
    "\n",
    "    option = \"yes\"\n",
    "    while option == \"yes\":\n",
    "        yourfile = input(\"Enter your file name: \")\n",
    "        path = Path(yourfile)\n",
    "        try:\n",
    "            content = path.read_text()\n",
    "        except FileNotFoundError:\n",
    "            print(f\"your '{yourfile}' file does not exist\")\n",
    "            option = input(\"search again(yes)/(no)? \")\n",
    "        else:\n",
    "            print(f\"Contnet of your '{yourfile}' file: \\n{content}\")\n",
    "            option = \"no\""
   ]
  },
  {
   "cell_type": "code",
   "execution_count": 126,
   "id": "d2c7c4df",
   "metadata": {},
   "outputs": [
    {
     "name": "stdout",
     "output_type": "stream",
     "text": [
      "your 'j' file does not exist\n"
     ]
    }
   ],
   "source": [
    "file_reader()"
   ]
  },
  {
   "cell_type": "markdown",
   "id": "9296fb1e",
   "metadata": {},
   "source": [
    "---\n",
    "\n",
    "### Q2\n",
    "#### Write a Python program that:\n",
    "- Asks the user for a file name.\n",
    "- Prompts the user to enter some text.\n",
    "- Writes the entered text to the specified file.\n",
    "- Handles the following exceptions:\n",
    "    - PermissionError if the file cannot be written to.\n",
    "- Confirm successful write by reopening the file and displaying its contents.\n",
    "---"
   ]
  },
  {
   "cell_type": "code",
   "execution_count": 115,
   "id": "2f8da268",
   "metadata": {},
   "outputs": [],
   "source": [
    "def file_writer():\n",
    "    \"\"\"Check for the permissions of a file and writes into it\"\"\"\n",
    "    from pathlib import Path\n",
    "\n",
    "    yourfile = input(\"Enter your file name: \")\n",
    "    yourcontent = input(\"What do you want to write in it?  \")\n",
    "    path = Path(yourfile)\n",
    "    try:\n",
    "        content = path.write_text(yourcontent)\n",
    "    except PermissionError:\n",
    "        print(f\"Error: Permission denied to write to '{path}'!\")\n",
    "    else:\n",
    "        content = path.read_text()\n",
    "        print(f\"Data saved successfully to '{path}'\")\n",
    "        print(f\"Contnet of your '{path}' file: \\n{content}\")"
   ]
  },
  {
   "cell_type": "code",
   "execution_count": null,
   "id": "404695ec",
   "metadata": {},
   "outputs": [
    {
     "name": "stdout",
     "output_type": "stream",
     "text": [
      "Help on function file_reader in module __main__:\n",
      "\n",
      "file_reader()\n",
      "    Check for the existance of a file and returns it's content\n",
      "\n"
     ]
    }
   ],
   "source": [
    "file_writer() # xyz is read only"
   ]
  },
  {
   "cell_type": "markdown",
   "id": "bbc5ba98",
   "metadata": {},
   "source": [
    "---\n",
    "\n",
    "### Q3\n",
    "#### Write a Python program that Creates a dictionary with the following structure:\n",
    "```python\n",
    "data = {\n",
    "\"name\": \"Alice\",\n",
    "\"age\": 25,\n",
    "\"city\": \"New York\"\n",
    "}\n",
    "```\n",
    "- Saves this dictionary into a file named data.json in JSON format.\n",
    "- Handles the following exceptions:\n",
    "    - IOError if there is an error writing to the file.\n",
    "- Reloads the JSON file and displays its contents to confirm successful saving.\n",
    "---"
   ]
  },
  {
   "cell_type": "code",
   "execution_count": 158,
   "id": "081744d3",
   "metadata": {},
   "outputs": [],
   "source": [
    "def write_to_json():\n",
    "    \"\"\"\n",
    "    Takes json file name and content of the file\n",
    "    store the content in the file and displays it\n",
    "    \"\"\"\n",
    "\n",
    "    from pathlib import Path\n",
    "    import json\n",
    "\n",
    "    data = {}\n",
    "    content = \"\"\n",
    "    values = \"\"\n",
    "    while True:\n",
    "        json_path = input(\"Enter the file name in .json extention: \")\n",
    "        if json_path.endswith(\".json\"):\n",
    "            break\n",
    "        else:\n",
    "            print(\"Invalid name it must be'.json'\")\n",
    "\n",
    "    path = Path(json_path)\n",
    "    exit_it = 0\n",
    "    while exit_it != 1:\n",
    "        content = input(\"Enter the key(q to exit): \")\n",
    "        if content != \"q\":\n",
    "            values = input(\"Enter it's value(q to exit): \")\n",
    "            if values != \"q\":     \n",
    "                data.update({content:values})\n",
    "                try:\n",
    "                    # Usnig json lib to convert dic to json\n",
    "                    path.write_text(json.dumps(data)) \n",
    "                except IOError:\n",
    "                    print(f\"Error writing to the file '{path}'\")\n",
    "                    return\n",
    "            else: exit_it = 1\n",
    "        else: exit_it = 1\n",
    "    try:\n",
    "        json_content = path.read_text()\n",
    "    except IOError:\n",
    "        print(f\"File saved successfully!\\n\")\n",
    "        print(f\"Error Reading thefile '{path}'\")\n",
    "    else:\n",
    "        print(f\"File saved successfully with content:\\n{json_content}\")"
   ]
  },
  {
   "cell_type": "code",
   "execution_count": 159,
   "id": "e3e3058a",
   "metadata": {},
   "outputs": [
    {
     "name": "stdout",
     "output_type": "stream",
     "text": [
      "Invalid name it must be'.json'\n",
      "File saved successfully with content:\n",
      "{\"s\": \"s\"}\n"
     ]
    }
   ],
   "source": [
    "write_to_json() # x.json is read only"
   ]
  },
  {
   "cell_type": "code",
   "execution_count": 82,
   "id": "7c643c01",
   "metadata": {},
   "outputs": [
    {
     "name": "stdout",
     "output_type": "stream",
     "text": [
      "File saved successfully with content:\n",
      "{\"name\": \"Alice\", \"age\": 25, \"city\": \"New York\"}\n"
     ]
    }
   ],
   "source": [
    "from pathlib import Path\n",
    "import json\n",
    "\n",
    "data = {\n",
    "\"name\": \"Alice\",\n",
    "\"age\": 25,\n",
    "\"city\": \"New York\"\n",
    "}\n",
    "path = Path(\"file.json\")\n",
    "try:\n",
    "    path.write_text(json.dumps(data)) # Usnig json lib to convert dic to json\n",
    "except IOError:\n",
    "    print(\"error\")\n",
    "else:\n",
    "    json_content = path.read_text()\n",
    "    print(f\"File saved successfully with content:\\n{json_content}\")"
   ]
  },
  {
   "cell_type": "markdown",
   "id": "4e7adc59",
   "metadata": {},
   "source": [
    "---\n",
    "\n",
    "### Q4\n",
    "#### Write a program that combines all the above steps:\n",
    "- Reads a file and prints its contents.\n",
    "- Writes user input to a new file.\n",
    "- Saves data in JSON format.\n",
    "- Validates all user inputs to ensure correctness.\n",
    "- Ensures all exceptions are handled gracefully.\n",
    "- Provides a menu system to navigate between the tasks.\n",
    "---"
   ]
  },
  {
   "cell_type": "code",
   "execution_count": null,
   "id": "ac090aa0",
   "metadata": {},
   "outputs": [],
   "source": [
    "def menu_system():\n",
    "    \"\"\"read, write, save to json\"\"\"\n",
    "    \n",
    "    user_input = \"\"\n",
    "    while True:\n",
    "    # user choose 1:4\n",
    "        user_input = input(\"choose:\\n1- Read a file\" \\\n",
    "        \"\\n2- Write to a file\" \\\n",
    "        \"\\n3- Save data to JSON\" \\\n",
    "        \"\\n4- Exit\").lower()\n",
    "        if user_input == \"1\":\n",
    "            file_reader()\n",
    "        elif user_input == \"2\":\n",
    "            file_writer() \n",
    "        elif user_input == \"3\":\n",
    "            write_to_json()\n",
    "        elif user_input == \"4\":\n",
    "            print(\"It's sad to see you go!(\")\n",
    "            return\n",
    "        else:\n",
    "            # loop till a valid input\n",
    "            print(\"chose a valid input or 4 to quit\")"
   ]
  },
  {
   "cell_type": "code",
   "execution_count": 140,
   "id": "13edb6ed",
   "metadata": {},
   "outputs": [
    {
     "name": "stdout",
     "output_type": "stream",
     "text": [
      "It's sad to see you go!(\n"
     ]
    }
   ],
   "source": [
    "menu_system()"
   ]
  },
  {
   "cell_type": "markdown",
   "id": "0976d47e",
   "metadata": {},
   "source": [
    "---\n",
    "\n",
    "### Q5\n",
    "#### Write a Python program that:\n",
    "- Prompts the user to enter their name, age, and email.\n",
    "- Validates the inputs as follows:\n",
    "    - Name must only contain alphabetic characters and spaces.\n",
    "    - Age must be a positive integer.\n",
    "    - Email must follow a standard email format (e.g., contain \"@\" and \".\").\n",
    "- Handles the following exceptions:\n",
    "    - ValueError if the age is not an integer.\n",
    "- Outputs the validated data.\n",
    "---"
   ]
  },
  {
   "cell_type": "code",
   "execution_count": 175,
   "id": "cfa4a5c8",
   "metadata": {},
   "outputs": [],
   "source": [
    "def user_data():\n",
    "    \"\"\"Checks the correctnes of user inputed data\"\"\"\n",
    "    import re\n",
    "    data = []\n",
    "\n",
    "    name = input(\"name: \")\n",
    "    # we remove the white space so we can check the alphabetic in the string\n",
    "    name_string = name.replace(\" \", \"\") \n",
    "    # is alpha returns true only if string all alphabetic\n",
    "    if name_string.isalpha():\n",
    "        data.append(name)\n",
    "    else:\n",
    "        print(\"Name must only contian letters and spaces\")\n",
    "        return \n",
    "    try:\n",
    "        age = int(input(\"age\"))\n",
    "    # we turned the string to int so it will give error if it's not a number\n",
    "    # we handle it here\n",
    "    except ValueError:\n",
    "        print(\"Value Error: This is no an integer\")\n",
    "        return\n",
    "    else:\n",
    "        if age > 0: # also checking if it's positive or not\n",
    "            data.append(age)\n",
    "        else:\n",
    "            print(\"Age must be positive!\")\n",
    "            return \n",
    "    email = input(\"email\")\n",
    "    # here we used the re library to check for the email format\n",
    "    # re stands for regular expressions: match and search using patterns\n",
    "    # re.fullmatch(pattern, string) checks if the entire string matches the pattern\n",
    "    # r\"\": it asks python to not explain special characters wrong! \\n or \\t...\n",
    "    # the needed format is like this \"any1@any2.any3\"\n",
    "    # any1 translated to >> [^@] >> any letter except for @\n",
    "    # + translate to >> one or more than one of [^@]\n",
    "    # @ >> find @ in the middle\n",
    "    # any2 >> [^@]+ >> same after @\n",
    "    # . >> \\. >> dot the site after @any2\n",
    "    # any3 >> [^@]\n",
    "\n",
    "    if re.fullmatch(r\"[^@]+@[^@]+\\.[^@]+\", email):\n",
    "        data.append(email)\n",
    "    else:\n",
    "        print(\"Email must be in the email format\")\n",
    "        return \n",
    "    print(f\"Valid Data:\\nName: {data[0]}\\nAge: {data[1]}\\nEmail: {data[2]}\")"
   ]
  },
  {
   "cell_type": "code",
   "execution_count": 179,
   "id": "602e9026",
   "metadata": {},
   "outputs": [
    {
     "name": "stdout",
     "output_type": "stream",
     "text": [
      "Valid Data:\n",
      "Name: Hussein\n",
      "Age: 25\n",
      "Email: hussein7mohamed8@gmail.com\n"
     ]
    }
   ],
   "source": [
    "user_data()"
   ]
  },
  {
   "cell_type": "markdown",
   "id": "8c3d6dfd",
   "metadata": {},
   "source": [
    "## Bonus Task\n",
    "### Enhance Problem 3 by allowing the user to input their own data (e.g., name, age, and city) instead of using hardcoded values. Include validation to ensure:\n",
    "- Name is a string.\n",
    "- Age is a positive integer.\n",
    "- City is a non-empty string."
   ]
  },
  {
   "cell_type": "code",
   "execution_count": 187,
   "id": "daf57f49",
   "metadata": {},
   "outputs": [],
   "source": [
    "def user_info():\n",
    "    \"\"\"stores user info into jason file\"\"\"\n",
    "    \n",
    "    from pathlib import Path\n",
    "    import json\n",
    "    \n",
    "\n",
    "    while True:\n",
    "        json_path = input(\"Enter the file name in .json extention: \")\n",
    "        if json_path.endswith(\".json\"):\n",
    "            break\n",
    "        else:\n",
    "            print(\"Invalid name it must be'.json'\")\n",
    "\n",
    "    path = Path(json_path)\n",
    "    data = {}\n",
    "    name = input(\"Enter Your name: \")\n",
    "    # we remove the white space so we can check the alphabetic in the string\n",
    "    name_string = name.replace(\" \", \"\") \n",
    "    # is alpha returns true only if string all alphabetic\n",
    "    if name_string.isalpha():\n",
    "        data.update({\"Name\": name})\n",
    "    else:\n",
    "        print(\"Name must only contian letters and spaces\")\n",
    "        return \n",
    "    try:\n",
    "        age = int(input(\"Enter Your Age: \"))\n",
    "    # we turned the string to int so it will give error if it's not a number\n",
    "    # we handle it here\n",
    "    except ValueError:\n",
    "        print(\"Value Error: This is no an integer\")\n",
    "        return\n",
    "    else:\n",
    "        if age > 0: # also checking if it's positive or not\n",
    "            data.update({\"Age\": age})\n",
    "        else:\n",
    "            print(\"Age must be positive!\")\n",
    "            return \n",
    "    city = input(\"Enter Your City: \")\n",
    "    if city != \"\":\n",
    "        data.update({\"City\": city})\n",
    "    else:\n",
    "        print(\"City must not be empty\") \n",
    "        return \n",
    "    \n",
    "    try:\n",
    "        # Usnig json lib to convert dic to json\n",
    "        path.write_text(json.dumps(data)) \n",
    "    except IOError:\n",
    "        print(f\"Error writing to the file '{path}'\")\n",
    "        return\n",
    "    else:\n",
    "        try:\n",
    "            json_content = path.read_text()\n",
    "        except IOError:\n",
    "            print(f\"File saved successfully! to '{path}'\\n\")\n",
    "            print(f\"Error Reading thefile '{path}'\")\n",
    "        else:\n",
    "            print(f\"File saved successfully to '{path}' with content:\\n{json_content}\")"
   ]
  },
  {
   "cell_type": "code",
   "execution_count": 188,
   "id": "5396e2a6",
   "metadata": {},
   "outputs": [
    {
     "name": "stdout",
     "output_type": "stream",
     "text": [
      "File saved successfully to 'bonus.json' with content:\n",
      "{\"Name\": \"Hussein\", \"Age\": 25, \"City\": \"Mina\"}\n"
     ]
    }
   ],
   "source": [
    "user_info()"
   ]
  },
  {
   "cell_type": "code",
   "execution_count": null,
   "id": "d5ea848f",
   "metadata": {},
   "outputs": [],
   "source": []
  }
 ],
 "metadata": {
  "kernelspec": {
   "display_name": ".venv (3.12.3)",
   "language": "python",
   "name": "python3"
  },
  "language_info": {
   "codemirror_mode": {
    "name": "ipython",
    "version": 3
   },
   "file_extension": ".py",
   "mimetype": "text/x-python",
   "name": "python",
   "nbconvert_exporter": "python",
   "pygments_lexer": "ipython3",
   "version": "3.12.3"
  }
 },
 "nbformat": 4,
 "nbformat_minor": 5
}
