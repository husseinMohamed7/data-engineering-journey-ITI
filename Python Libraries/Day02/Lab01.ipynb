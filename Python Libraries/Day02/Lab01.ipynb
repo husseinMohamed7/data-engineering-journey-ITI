{
 "cells": [
  {
   "cell_type": "markdown",
   "id": "474d3fc6",
   "metadata": {},
   "source": [
    "# Day01 Python Libraries\n",
    "## Hussein Mohamed\n",
    "---"
   ]
  },
  {
   "cell_type": "code",
   "execution_count": 1,
   "id": "db25abea",
   "metadata": {},
   "outputs": [],
   "source": [
    "import numpy as np"
   ]
  },
  {
   "cell_type": "markdown",
   "id": "8740f13f",
   "metadata": {},
   "source": [
    "### Q1\n",
    "#### Write a NumPy program to create an array of 10 zeros, array of 10 ones, and array of 10 fives."
   ]
  },
  {
   "cell_type": "code",
   "execution_count": 2,
   "id": "2f8da268",
   "metadata": {},
   "outputs": [
    {
     "name": "stdout",
     "output_type": "stream",
     "text": [
      "[0 0 0 0 0 0 0 0 0 0]\n",
      "[1 1 1 1 1 1 1 1 1 1]\n",
      "method1: [5 5 5 5 5 5 5 5 5 5]\n",
      "method2: [5 5 5 5 5 5 5 5 5 5]\n"
     ]
    }
   ],
   "source": [
    "q1zeros = np.zeros(10, dtype=int)\n",
    "q1ones = np.ones(10, dtype=int)\n",
    "q1fives = np.ones(10, dtype=int) * 5\n",
    "q1fives2 = np.array([5] * 10)\n",
    "print(f\"{q1zeros}\\n{q1ones}\\nmethod1: {q1fives}\\nmethod2: {q1fives2}\")"
   ]
  },
  {
   "cell_type": "markdown",
   "id": "7cd374aa",
   "metadata": {},
   "source": [
    "---\n",
    "\n",
    "### Q2\n",
    "#### Write a NumPy program to create an array of all even integers from 30 to 70.\n",
    "---"
   ]
  },
  {
   "cell_type": "code",
   "execution_count": 3,
   "id": "68d0b16a",
   "metadata": {},
   "outputs": [
    {
     "name": "stdout",
     "output_type": "stream",
     "text": [
      "[30 32 34 36 38 40 42 44 46 48 50 52 54 56 58 60 62 64 66 68 70]\n"
     ]
    }
   ],
   "source": [
    "q2even_integers = np.arange(30, 71, 2)\n",
    "print(q2even_integers)"
   ]
  },
  {
   "cell_type": "markdown",
   "id": "ff47bee5",
   "metadata": {},
   "source": [
    "---\n",
    "\n",
    "### Q3\n",
    "#### Write a NumPy program to create an array of given shape (5,6) and integer type, filled with zeros. \n",
    "\n",
    "---"
   ]
  },
  {
   "cell_type": "code",
   "execution_count": 4,
   "id": "3232b683",
   "metadata": {},
   "outputs": [
    {
     "name": "stdout",
     "output_type": "stream",
     "text": [
      "method one:\n",
      "[[0 0 0 0 0 0]\n",
      " [0 0 0 0 0 0]\n",
      " [0 0 0 0 0 0]\n",
      " [0 0 0 0 0 0]\n",
      " [0 0 0 0 0 0]]\n",
      "method2:\n",
      "[[0 0 0 0 0 0]\n",
      " [0 0 0 0 0 0]\n",
      " [0 0 0 0 0 0]\n",
      " [0 0 0 0 0 0]\n",
      " [0 0 0 0 0 0]]\n"
     ]
    }
   ],
   "source": [
    "q3zeros_shape1 = np.zeros(30, dtype = int ).reshape(5,6)\n",
    "q3zeros_shape2 = np.zeros((5,6), dtype = int )\n",
    "print(f\"method one:\\n{q3zeros_shape1}\\nmethod2:\\n{q3zeros_shape2}\")"
   ]
  },
  {
   "cell_type": "markdown",
   "id": "816b4802",
   "metadata": {},
   "source": [
    "---\n",
    "\n",
    "### Q4\n",
    "#### Create a 10x10 array with random values and find the minimum and maximum values.\n",
    "\n",
    "---"
   ]
  },
  {
   "cell_type": "code",
   "execution_count": 5,
   "id": "b787c88c",
   "metadata": {},
   "outputs": [
    {
     "name": "stdout",
     "output_type": "stream",
     "text": [
      "[[0.68848115 0.33964999 0.3076726  0.53532394 0.67951008 0.28511844\n",
      "  0.3026504  0.80484521 0.41652772 0.50084433]\n",
      " [0.37918546 0.4762864  0.17001161 0.74660563 0.72928163 0.42579115\n",
      "  0.56630488 0.52829639 0.85924483 0.78553112]\n",
      " [0.64989072 0.74950767 0.69337414 0.28317071 0.76404802 0.41373362\n",
      "  0.33381705 0.1737418  0.83071002 0.08935201]\n",
      " [0.6111145  0.19532568 0.96819575 0.66672867 0.50548305 0.65112175\n",
      "  0.17559607 0.89446129 0.7679587  0.99246896]\n",
      " [0.5602928  0.86122503 0.8774952  0.61029383 0.15462301 0.62360178\n",
      "  0.07800418 0.82652277 0.72280287 0.84717858]\n",
      " [0.12141321 0.73145066 0.19986345 0.60568475 0.5184521  0.79271868\n",
      "  0.60912798 0.83123033 0.46209435 0.03459088]\n",
      " [0.04683999 0.30738705 0.14063305 0.61598958 0.58709886 0.35886363\n",
      "  0.19816252 0.83844077 0.99515364 0.38030699]\n",
      " [0.4570673  0.57286566 0.08084972 0.15789277 0.52255752 0.27564774\n",
      "  0.63152623 0.07431422 0.50076218 0.89583168]\n",
      " [0.72131546 0.25419847 0.75812108 0.59945921 0.32866853 0.7606938\n",
      "  0.20132357 0.75714102 0.01162531 0.16527921]\n",
      " [0.21509655 0.37815759 0.28657198 0.35802887 0.04634881 0.80672334\n",
      "  0.97650359 0.63255901 0.5722749  0.22763583]]\n",
      "min: 0.011625306926314471\n",
      "max: 0.995153637158606\n"
     ]
    }
   ],
   "source": [
    "q4rand = np.random.rand(10,10)\n",
    "print(q4rand)\n",
    "print(f\"min: {q4rand.min()}\\nmax: {q4rand.max()}\")"
   ]
  },
  {
   "cell_type": "markdown",
   "id": "ca045cf3",
   "metadata": {},
   "source": [
    "---\n",
    "\n",
    "### Q5\n",
    "#### Write a NumPy program to create a 3x3 array with values ranging from 2 to 10.\n",
    "\n",
    "---"
   ]
  },
  {
   "cell_type": "code",
   "execution_count": 6,
   "id": "3d98f4c8",
   "metadata": {},
   "outputs": [
    {
     "name": "stdout",
     "output_type": "stream",
     "text": [
      "[[ 2  3  4]\n",
      " [ 5  6  7]\n",
      " [ 8  9 10]]\n"
     ]
    }
   ],
   "source": [
    "q5array = np.arange(2, 11).reshape(3,3)\n",
    "print(q5array)"
   ]
  },
  {
   "cell_type": "markdown",
   "id": "27bef7c6",
   "metadata": {},
   "source": [
    "---\n",
    "\n",
    "### Q6\n",
    "#### Write a NumPy program to create an array of size = 20 using arrange, then extract all numbers from a given array greater than 15.\n",
    "\n",
    "---"
   ]
  },
  {
   "cell_type": "code",
   "execution_count": 7,
   "id": "27aaf802",
   "metadata": {},
   "outputs": [
    {
     "name": "stdout",
     "output_type": "stream",
     "text": [
      "16\n",
      "17\n",
      "18\n",
      "19\n"
     ]
    }
   ],
   "source": [
    "q6array = np.arange(20)\n",
    "for i in q6array:\n",
    "    if i > 15:\n",
    "        print(i)"
   ]
  },
  {
   "cell_type": "markdown",
   "id": "79066343",
   "metadata": {},
   "source": [
    "---\n",
    "\n",
    "### Q7\n",
    "#### Write a NumPy program to combine the two 2-dimensional arrays using hstack and vstack.\n",
    "- Array 1: [[0, 1, 3], [5, 7, 9]]\n",
    "- Array 2: [[0, 2, 4], [6, 8, 10]]\n",
    "\n",
    "---"
   ]
  },
  {
   "cell_type": "code",
   "execution_count": 8,
   "id": "3c818d8c",
   "metadata": {},
   "outputs": [
    {
     "name": "stdout",
     "output_type": "stream",
     "text": [
      "hstack:\n",
      "[[ 0  1  3  0  2  4]\n",
      " [ 5  7  9  6  8 10]]\n",
      "vstack:\n",
      "[[ 0  1  3]\n",
      " [ 5  7  9]\n",
      " [ 0  2  4]\n",
      " [ 6  8 10]]\n",
      "concat axis0:\n",
      "[[ 0  1  3]\n",
      " [ 5  7  9]\n",
      " [ 0  2  4]\n",
      " [ 6  8 10]]\n",
      "concat axis1:\n",
      "[[ 0  1  3  0  2  4]\n",
      " [ 5  7  9  6  8 10]]\n"
     ]
    }
   ],
   "source": [
    "q7arr1 = np.array([[0, 1, 3], [5, 7, 9]])\n",
    "q7arr2 = np.array([[0, 2, 4], [6, 8, 10]])\n",
    "q7hstack = np.hstack((q7arr1, q7arr2))\n",
    "q7vstack = np.vstack((q7arr1, q7arr2))\n",
    "q7concat0 = np.concatenate((q7arr1, q7arr2), axis=0)\n",
    "q7concat1 = np.concatenate((q7arr1, q7arr2), axis=1)\n",
    "print(f\"hstack:\\n{q7hstack}\\nvstack:\\n{q7vstack}\\nconcat axis0:\\n{q7concat0}\\nconcat axis1:\\n{q7concat1}\")"
   ]
  },
  {
   "cell_type": "markdown",
   "id": "e369fe39",
   "metadata": {},
   "source": [
    "---\n",
    "\n",
    "### Q8\n",
    "#### Write a NumPy program to create ones array of size 10 and change the 6th element to 11.\n",
    "\n",
    "---"
   ]
  },
  {
   "cell_type": "code",
   "execution_count": 9,
   "id": "fc40aab1",
   "metadata": {},
   "outputs": [
    {
     "name": "stdout",
     "output_type": "stream",
     "text": [
      "[ 1  1  1  1  1 11  1  1  1  1]\n"
     ]
    }
   ],
   "source": [
    "q8ones = np.ones(10, dtype=int)\n",
    "q8ones[5] = 11\n",
    "print(q8ones)"
   ]
  },
  {
   "cell_type": "markdown",
   "id": "b990cb32",
   "metadata": {},
   "source": [
    "---\n",
    "\n",
    "### Q9\n",
    "#### Write a NumPy program to append a value to the end of an array.\n",
    "\n",
    "---"
   ]
  },
  {
   "cell_type": "code",
   "execution_count": 10,
   "id": "da5bff5c",
   "metadata": {},
   "outputs": [
    {
     "name": "stdout",
     "output_type": "stream",
     "text": [
      "[ 1  1  1  1  1 11  1  1  1  1 99]\n"
     ]
    }
   ],
   "source": [
    "print(np.append(q8ones, 99))"
   ]
  },
  {
   "cell_type": "markdown",
   "id": "5ed9b920",
   "metadata": {},
   "source": [
    "---\n",
    "\n",
    "### Q10\n",
    "#### Write a NumPy program to reverse an array [using two different methods].\n",
    "\n",
    "---"
   ]
  },
  {
   "cell_type": "code",
   "execution_count": 11,
   "id": "4f77d722",
   "metadata": {},
   "outputs": [
    {
     "name": "stdout",
     "output_type": "stream",
     "text": [
      "method1: [5 4 3 2 1]\n",
      "method2: [5 4 3 2 1]\n"
     ]
    }
   ],
   "source": [
    "q10reverse = np.array([1, 2, 3, 4, 5])\n",
    "print(f\"method1: {q10reverse[::-1]}\\nmethod2: {np.flip(q10reverse)}\")\n"
   ]
  }
 ],
 "metadata": {
  "kernelspec": {
   "display_name": ".pylibs (3.12.3)",
   "language": "python",
   "name": "python3"
  },
  "language_info": {
   "codemirror_mode": {
    "name": "ipython",
    "version": 3
   },
   "file_extension": ".py",
   "mimetype": "text/x-python",
   "name": "python",
   "nbconvert_exporter": "python",
   "pygments_lexer": "ipython3",
   "version": "3.12.3"
  }
 },
 "nbformat": 4,
 "nbformat_minor": 5
}
